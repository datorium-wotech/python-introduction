{
  "cells": [
    {
      "cell_type": "code",
      "execution_count": 2,
      "metadata": {
        "colab": {
          "base_uri": "https://localhost:8080/"
        },
        "id": "7biVh8yfO2Tr",
        "outputId": "10540fc6-4a29-4ec6-9696-d94e20f75893"
      },
      "outputs": [
        {
          "name": "stdout",
          "output_type": "stream",
          "text": [
            "True\n",
            "False\n"
          ]
        }
      ],
      "source": [
        "# Equal (==)\n",
        "x = 5 # ASSIGN A VARIABLE\n",
        "y = 5\n",
        "\n",
        "print(x == y) #COMPARE\n",
        "print('1' == 1 )"
      ]
    },
    {
      "cell_type": "code",
      "execution_count": 3,
      "metadata": {
        "colab": {
          "base_uri": "https://localhost:8080/"
        },
        "id": "QzYarZBBPsZX",
        "outputId": "51bb41ff-60a4-42bd-dd5e-96ac236bed69"
      },
      "outputs": [
        {
          "name": "stdout",
          "output_type": "stream",
          "text": [
            "False\n"
          ]
        }
      ],
      "source": [
        "# Not equal (!=)\n",
        "\n",
        "print(x != y)"
      ]
    },
    {
      "cell_type": "code",
      "execution_count": 5,
      "metadata": {
        "colab": {
          "base_uri": "https://localhost:8080/"
        },
        "id": "n4EkGfSkQbMH",
        "outputId": "3eb14a89-5f72-4e3a-fe01-45d221b77c50"
      },
      "outputs": [
        {
          "name": "stdout",
          "output_type": "stream",
          "text": [
            "True\n"
          ]
        }
      ],
      "source": [
        "# Greater than (>)\n",
        "\n",
        "print(x > 2)"
      ]
    },
    {
      "cell_type": "code",
      "execution_count": 6,
      "metadata": {
        "colab": {
          "base_uri": "https://localhost:8080/"
        },
        "id": "n6m58xuAQrfy",
        "outputId": "f8616860-68f9-4b54-822e-0596e3936532"
      },
      "outputs": [
        {
          "name": "stdout",
          "output_type": "stream",
          "text": [
            "True\n"
          ]
        }
      ],
      "source": [
        "# Less than (<)\n",
        "\n",
        "print(x < 10)"
      ]
    },
    {
      "cell_type": "code",
      "execution_count": 7,
      "metadata": {
        "colab": {
          "base_uri": "https://localhost:8080/"
        },
        "id": "ytyJpLj9Q1_F",
        "outputId": "171a3aa8-1428-42bf-bc2c-b0a7b3519713"
      },
      "outputs": [
        {
          "name": "stdout",
          "output_type": "stream",
          "text": [
            "True\n"
          ]
        }
      ],
      "source": [
        "# Greater than or equal to (>=)\n",
        "\n",
        "print(x >= 5)"
      ]
    },
    {
      "cell_type": "code",
      "execution_count": 19,
      "metadata": {
        "colab": {
          "base_uri": "https://localhost:8080/"
        },
        "id": "3P_N_70mRr-_",
        "outputId": "d051d8c0-199b-4e72-db5c-60604c9bad7f"
      },
      "outputs": [
        {
          "name": "stdout",
          "output_type": "stream",
          "text": [
            "Less than 50\n",
            "Finish\n"
          ]
        }
      ],
      "source": [
        "# IF ELSE statements\n",
        "x = 1\n",
        "\n",
        "if x < 50:\n",
        "    print('Less than 50')\n",
        "else:\n",
        "    print('More than or equal to 50')\n",
        "print('Finish') #THIS IS NOT A MUST"
      ]
    },
    {
      "cell_type": "code",
      "execution_count": 20,
      "metadata": {
        "colab": {
          "base_uri": "https://localhost:8080/"
        },
        "id": "wxCFRgInVNIN",
        "outputId": "9dd095c9-83d5-4389-9c7a-a1226407a37c"
      },
      "outputs": [
        {
          "name": "stdout",
          "output_type": "stream",
          "text": [
            "a is above 10\n",
            "This is still in the block\n",
            "This is outside the block\n"
          ]
        }
      ],
      "source": [
        "a = 20\n",
        "\n",
        "if a > 10:\n",
        "  print('a is above 10')\n",
        "  print('This is still in the block')\n",
        "print('This is outside the block')"
      ]
    },
    {
      "cell_type": "code",
      "execution_count": 22,
      "metadata": {
        "colab": {
          "base_uri": "https://localhost:8080/"
        },
        "id": "mgCqOdF-VyL5",
        "outputId": "78c774f0-ad5e-47ec-e83f-94460527b726"
      },
      "outputs": [
        {
          "name": "stdout",
          "output_type": "stream",
          "text": [
            "How old are you?: 28\n",
            "you are eligible to wote\n",
            "Please proceed to the voting booth\n",
            "Thank you for participating!\n"
          ]
        }
      ],
      "source": [
        "age = int(input('How old are you?: '))\n",
        "\n",
        "if age >= 18:\n",
        "  print('you are eligible to wote') #first block\n",
        "  print('Please proceed to the voting booth')\n",
        "else:\n",
        "  print('You are not old enough to vote')\n",
        "print('Thank you for participating!')"
      ]
    },
    {
      "cell_type": "code",
      "execution_count": 23,
      "metadata": {
        "colab": {
          "base_uri": "https://localhost:8080/"
        },
        "id": "Z2swqBp3XJ7Z",
        "outputId": "3be6a292-27aa-4452-c273-feb4bc1462fb"
      },
      "outputs": [
        {
          "name": "stdout",
          "output_type": "stream",
          "text": [
            "Enter a number: 10\n",
            "The number 10 is even!\n"
          ]
        }
      ],
      "source": [
        "number = int(input('Enter a number: '))\n",
        "\n",
        "# %\n",
        "# check if the number is even or odd\n",
        "\n",
        "if number % 2 == 0: #MODULUS OPERATIONS\n",
        "  print(f'The number {number} is even!')\n",
        "else:\n",
        "  print(f'The number {number} is odd!')"
      ]
    },
    {
      "cell_type": "markdown",
      "metadata": {
        "id": "gPtqKsUdZOxy"
      },
      "source": [
        "# Payment approval"
      ]
    },
    {
      "cell_type": "code",
      "execution_count": null,
      "metadata": {
        "id": "9OUqDsvCY5Uo"
      },
      "outputs": [],
      "source": [
        "# If the transaction can be done based on the account balance"
      ]
    },
    {
      "cell_type": "code",
      "execution_count": 24,
      "metadata": {
        "colab": {
          "base_uri": "https://localhost:8080/"
        },
        "id": "RTSaydI0Zp15",
        "outputId": "5be76a6a-bdd5-478e-85c9-9ae61895055e"
      },
      "outputs": [
        {
          "name": "stdout",
          "output_type": "stream",
          "text": [
            "Enter your account balance: 100\n",
            "Enter the transaction amount70\n",
            "Payment approved!\n"
          ]
        }
      ],
      "source": [
        "account_balance = float(input('Enter your account balance: '))\n",
        "transaction_amount = float(input('Enter the transaction amount'))\n",
        "\n",
        "if account_balance >= transaction_amount:\n",
        "  print('Payment approved!')\n",
        "else:\n",
        "  print('Insufficient funds!')"
      ]
    },
    {
      "cell_type": "markdown",
      "metadata": {
        "id": "KbWIMFCveQwO"
      },
      "source": [
        "# Access management system"
      ]
    },
    {
      "cell_type": "code",
      "execution_count": 26,
      "metadata": {
        "colab": {
          "base_uri": "https://localhost:8080/"
        },
        "id": "vX2ucypxbGAC",
        "outputId": "ddb77821-86c3-40ac-cefa-25d9a1500718"
      },
      "outputs": [
        {
          "name": "stdout",
          "output_type": "stream",
          "text": [
            "Enter your username: user123\n",
            "Enter your password: pass123\n",
            "Access granted\n"
          ]
        }
      ],
      "source": [
        "# check if username and password matches stored username and password.\n",
        "#If yes you gett access to the system\n",
        "\n",
        "username = input('Enter your username: ')\n",
        "password = input('Enter your password: ')\n",
        "\n",
        "STORED_USERNAME = 'user123'\n",
        "STORED_PASSWORD = 'pass123'\n",
        "\n",
        "# AND OR\n",
        "if username == STORED_USERNAME and password == STORED_PASSWORD:\n",
        "  print('Access granted')\n",
        "else:\n",
        "  print('Access denied!')"
      ]
    },
    {
      "cell_type": "markdown",
      "metadata": {
        "id": "q5Hp9fUZhQ1S"
      },
      "source": [
        "# Multi way decisions"
      ]
    },
    {
      "cell_type": "code",
      "execution_count": 27,
      "metadata": {
        "colab": {
          "base_uri": "https://localhost:8080/"
        },
        "id": "LEXQf_J9g_-K",
        "outputId": "da017fe6-06fe-4f7e-dfa4-4854b41a19a8"
      },
      "outputs": [
        {
          "name": "stdout",
          "output_type": "stream",
          "text": [
            "Medium\n",
            "All done\n"
          ]
        }
      ],
      "source": [
        "x = 10\n",
        "\n",
        "if x < 5:\n",
        "  print('Small')\n",
        "elif x < 15:\n",
        "  print('Medium')\n",
        "else:\n",
        "  print('Large')\n",
        "\n",
        "print('All done')"
      ]
    },
    {
      "cell_type": "markdown",
      "metadata": {
        "id": "Q1sL4wpkh_X6"
      },
      "source": [
        "# Grading"
      ]
    },
    {
      "cell_type": "code",
      "execution_count": 35,
      "metadata": {
        "colab": {
          "base_uri": "https://localhost:8080/"
        },
        "id": "O7d2OYIziDWA",
        "outputId": "78df281d-a70f-4f75-c05b-e9b44600dae5"
      },
      "outputs": [
        {
          "name": "stdout",
          "output_type": "stream",
          "text": [
            "Enter your score: Roberta\n",
            "Wrong input, exception invalid literal for int() with base 10: 'Roberta'\n"
          ]
        }
      ],
      "source": [
        "# Grading in scale 100, convert 100 to ABCDEF\n",
        "\n",
        "try:\n",
        "  score = int(input('Enter your score: '))\n",
        "\n",
        "  if score >= 90:\n",
        "    print(\"Your grade is A!\")\n",
        "  elif score >= 80:\n",
        "    print(\"Your grade is B!\")\n",
        "  elif score >= 70:\n",
        "    print(\"Your grade is C!\")\n",
        "  elif score >= 60:\n",
        "    print(\"Your grade is D!\")\n",
        "  elif score >= 50 and score < 60 or score == 40:\n",
        "    print('Between 50 and 60 or 40')\n",
        "  else:\n",
        "    print('Your grade is F')\n",
        "except Exception as e:\n",
        "  print(f'Wrong input, exception {e}')"
      ]
    },
    {
      "cell_type": "code",
      "execution_count": 39,
      "metadata": {
        "colab": {
          "base_uri": "https://localhost:8080/"
        },
        "id": "F_WRWNULlMrS",
        "outputId": "da31baf0-2acd-4c9e-e835-69ee017ba7d5"
      },
      "outputs": [
        {
          "name": "stdout",
          "output_type": "stream",
          "text": [
            "Enter your account balance: 8\n",
            "Enter the transaction amountb\n",
            "Wrong input, exception: could not convert string to float: 'b'\n"
          ]
        }
      ],
      "source": [
        "try:\n",
        "  account_balance = float(input('Enter your account balance: '))\n",
        "  transaction_amount = float(input('Enter the transaction amount'))\n",
        "\n",
        "  if account_balance >= transaction_amount:\n",
        "    print('Payment approved!')\n",
        "  else:\n",
        "    print('Insufficient funds!')\n",
        "\n",
        "except Exception as m:\n",
        "  print(f'Wrong input, exception: {m}')"
      ]
    }
  ],
  "metadata": {
    "colab": {
      "provenance": []
    },
    "kernelspec": {
      "display_name": "Python 3",
      "name": "python3"
    },
    "language_info": {
      "name": "python"
    }
  },
  "nbformat": 4,
  "nbformat_minor": 0
}
