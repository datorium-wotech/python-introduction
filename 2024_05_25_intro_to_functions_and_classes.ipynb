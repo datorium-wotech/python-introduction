{
  "nbformat": 4,
  "nbformat_minor": 0,
  "metadata": {
    "colab": {
      "provenance": []
    },
    "kernelspec": {
      "name": "python3",
      "display_name": "Python 3"
    },
    "language_info": {
      "name": "python"
    }
  },
  "cells": [
    {
      "cell_type": "code",
      "execution_count": 17,
      "metadata": {
        "colab": {
          "base_uri": "https://localhost:8080/"
        },
        "id": "rp_GasZSkFDX",
        "outputId": "666449f3-a9e9-43db-c2e2-c7bfe6c3ca89"
      },
      "outputs": [
        {
          "output_type": "stream",
          "name": "stdout",
          "text": [
            "I have cleaned the smartphone with water 3 times.\n",
            "I have cleaned the glass with ethanol 5 times.\n",
            "I have cleaned the book with water 2 times.\n",
            "I have cleaned the monitor with ethanol 1 times.\n",
            "I have cleaned the plastic with ethanol 1 times.\n"
          ]
        }
      ],
      "source": [
        "def cleaner(item: str, fluid: str, times: int):\n",
        "    print(f'I have cleaned the {item} with {fluid} {times} times.')\n",
        "\n",
        "cleaner('smartphone', 'water', 3)\n",
        "cleaner('glass', 'ethanol', 5)\n",
        "cleaner('book', 'water', 2)\n",
        "cleaner('monitor', 'ethanol', 1)\n",
        "cleaner('plastic', 'ethanol', 1)"
      ]
    },
    {
      "cell_type": "code",
      "source": [
        "def add_two_numbers(number_1, number_2):\n",
        "  return number_1 + number_2\n",
        "\n",
        "50 - add_two_numbers(4, 5)"
      ],
      "metadata": {
        "colab": {
          "base_uri": "https://localhost:8080/"
        },
        "id": "yxZD33eaq0C8",
        "outputId": "ed658538-de76-4b19-9837-1ce9072eae90"
      },
      "execution_count": 16,
      "outputs": [
        {
          "output_type": "execute_result",
          "data": {
            "text/plain": [
              "41"
            ]
          },
          "metadata": {},
          "execution_count": 16
        }
      ]
    },
    {
      "cell_type": "code",
      "source": [
        "class Cat:\n",
        "  # __init__ method runs automatically\n",
        "  # when an object from this class is created\n",
        "  # this method also called a `constructor`\n",
        "  def __init__(self, name, age): #self is a requred parameter and refers to the instance\n",
        "    self.name = name\n",
        "    self.age = age\n",
        "\n",
        "  def voice(self, sound): # we define our custom method\n",
        "    print(f'{sound}!')\n",
        "\n",
        "cat1 = Cat('Coder', 3) # creare an instance of the class, called an object\n",
        "cat2 = Cat('Minka', 12) # creare an instance of the class, called an object\n",
        "cat3 = Cat('Miisu', 5) # creare an instance of the class, called an object\n",
        "\n",
        "print(cat1.age) # read the instance/object variable\n",
        "cat3.voice('Meow') # calling the custom method\n",
        "cat1.voice('Meoooow') # calling the custom method"
      ],
      "metadata": {
        "colab": {
          "base_uri": "https://localhost:8080/"
        },
        "id": "2cjCq4Tmxeuo",
        "outputId": "b133757f-9cf8-46a8-ce37-e5ff3d372d7e"
      },
      "execution_count": 30,
      "outputs": [
        {
          "output_type": "stream",
          "name": "stdout",
          "text": [
            "3\n",
            "Meow!\n",
            "Meoooow!\n"
          ]
        }
      ]
    },
    {
      "cell_type": "code",
      "source": [
        "class Cat:\n",
        "\n",
        "  def __init__(self, name, age):\n",
        "    self.name = name\n",
        "    self.age = age\n",
        "    self.sound = 'Meow' # assigning a sound\n",
        "\n",
        "  def voice(self):\n",
        "    print(f'{self.sound}!')\n",
        "\n",
        "  def eat(self, food):\n",
        "    print(f'{self.name} is eating {food}')\n",
        "\n",
        "  def introduce(self):\n",
        "    print(f'Hi, my name is {self.name}, I am {self.age} years old. Nice to meet you!')\n",
        "\n",
        "cat1 = Cat('Coder', 3)\n",
        "cat2 = Cat('Minka', 12)\n",
        "cat3 = Cat('Miisu', 5)\n",
        "\n",
        "cats = []\n",
        "cats.append(Cat('Coder', 3))\n",
        "cats.append(Cat('Minka', 12))\n",
        "cats.append(Cat('Miisu', 5))\n",
        "\n",
        "for cat in cats:\n",
        "  print(cat.name)"
      ],
      "metadata": {
        "colab": {
          "base_uri": "https://localhost:8080/"
        },
        "id": "y7lgUgXF7GSm",
        "outputId": "233fcf3d-e117-45f6-8ed0-98f0b1fba215"
      },
      "execution_count": 41,
      "outputs": [
        {
          "output_type": "stream",
          "name": "stdout",
          "text": [
            "Coder\n",
            "Minka\n",
            "Miisu\n"
          ]
        }
      ]
    }
  ]
}
