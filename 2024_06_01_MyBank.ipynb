{
  "nbformat": 4,
  "nbformat_minor": 0,
  "metadata": {
    "colab": {
      "provenance": []
    },
    "kernelspec": {
      "name": "python3",
      "display_name": "Python 3"
    },
    "language_info": {
      "name": "python"
    }
  },
  "cells": [
    {
      "cell_type": "code",
      "execution_count": 20,
      "metadata": {
        "colab": {
          "base_uri": "https://localhost:8080/"
        },
        "id": "YDN4mjR4pTtX",
        "outputId": "56b2a967-abf8-4287-bf0c-3d174731499b"
      },
      "outputs": [
        {
          "output_type": "stream",
          "name": "stdout",
          "text": [
            "We have 3 clients in our bank:\n",
            "Client Anna has the following accounts:\n",
            "    EE654987564321 (EUR) 1990.0\n",
            "        2024-06-01 09:01:19.258792 EUR 1200\n",
            "        2024-06-01 09:01:19.258831 EUR -50\n",
            "        2024-06-01 09:01:19.258862 EUR -140\n",
            "        2024-06-01 09:01:19.258892 EUR -20\n",
            "    JP582147859635 (JPY) 25000.3\n",
            "    US654987643214 (USD) 0.0\n",
            "Client Oskar has the following accounts:\n",
            "    PL849512635445 (PLN) 47800.0\n",
            "Client Jenifer has the following accounts:\n",
            "    SE741254956587 (SEK) 200.18\n"
          ]
        }
      ],
      "source": [
        "import datetime\n",
        "\n",
        "class Client:\n",
        "  number_of_clients = 0\n",
        "\n",
        "  def __init__(self, id, name):\n",
        "    self.id = id\n",
        "    self.name = name\n",
        "    self.accounts = []\n",
        "    Client.number_of_clients += 1\n",
        "\n",
        "  def add_account(self, account):\n",
        "    self.accounts.append(account)\n",
        "\n",
        "class Account:\n",
        "  def __init__(self, number, currency, balance = 0.0):\n",
        "    self.number = number\n",
        "    self.currency = currency\n",
        "    self.balance = balance\n",
        "    self.transactions = []\n",
        "\n",
        "  def make_deposit(self, amount, note):\n",
        "    self.transactions.append(Transaction(self.currency, amount, note))\n",
        "    self.balance += amount\n",
        "\n",
        "  def make_withdrawal(self, amount, note):\n",
        "    self.transactions.append(Transaction(self.currency, -amount, note))\n",
        "    self.balance -= amount\n",
        "\n",
        "class Transaction:\n",
        "  def __init__(self, currency, amount, note):\n",
        "    self.currency = currency\n",
        "    self.amount = amount\n",
        "    self.note = note\n",
        "    self.time_stamp = datetime.datetime.now()\n",
        "\n",
        "# now, let us work using those classes\n",
        "# adding clients to a list\n",
        "clients = []\n",
        "clients.append(Client('123456', 'Anna'))\n",
        "clients.append(Client('987654', 'Oskar'))\n",
        "clients.append(Client('456123', 'Jenifer'))\n",
        "\n",
        "# adding accounts to clients\n",
        "clients[0].add_account(Account('EE654987564321', 'EUR', 1000.0))\n",
        "clients[0].add_account(Account('JP582147859635', 'JPY', 25000.30))\n",
        "clients[0].add_account(Account('US654987643214', 'USD'))\n",
        "clients[1].add_account(Account('PL849512635445', 'PLN', 47800.00))\n",
        "clients[2].add_account(Account('SE741254956587', 'SEK', 200.18))\n",
        "\n",
        "\n",
        "# let's make some transactions\n",
        "clients[0].accounts[0].make_deposit(1200, 'Salary')\n",
        "clients[0].accounts[0].make_withdrawal(50, 'Grocery')\n",
        "clients[0].accounts[0].make_withdrawal(140, 'Clothes')\n",
        "clients[0].accounts[0].make_withdrawal(20, 'Dinner')\n",
        "\n",
        "# printing some data\n",
        "print(f'We have {Client.number_of_clients} clients in our bank:')\n",
        "\n",
        "for client in clients:\n",
        "  print(f'Client {client.name} has the following accounts:')\n",
        "  for account in client.accounts:\n",
        "    print(f'    {account.number} ({account.currency}) {account.balance}')\n",
        "    for transaction in account.transactions:\n",
        "      print(f'        {transaction.time_stamp} {transaction.currency} {transaction.amount}')"
      ]
    }
  ]
}