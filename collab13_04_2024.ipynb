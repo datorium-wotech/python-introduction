{
  "cells": [
    {
      "cell_type": "code",
      "execution_count": 1,
      "metadata": {
        "colab": {
          "base_uri": "https://localhost:8080/"
        },
        "id": "4KnF7z_rO6Dk",
        "outputId": "846b04e3-029d-4b50-a3ee-a76850a5a4d8"
      },
      "outputs": [
        {
          "name": "stdout",
          "output_type": "stream",
          "text": [
            "Write number 1:100\n",
            "Write number 2:200\n",
            "100 is smaller than 200\n"
          ]
        }
      ],
      "source": [
        "# COMPARE TWO NUMBERS IN NESTED DECISION\n",
        "\n",
        "num1 = int(input('Write number 1:'))\n",
        "num2 = int(input('Write number 2:'))\n",
        "\n",
        "if num1 >= num2:\n",
        "  if num1 == num2:\n",
        "    print(f'{num1} is equal to {num2}')\n",
        "  else:\n",
        "    print(f'{num1} is greater than {num2}')\n",
        "else:\n",
        "  print(f'{num1} is smaller than {num2}')"
      ]
    },
    {
      "cell_type": "code",
      "execution_count": 3,
      "metadata": {
        "colab": {
          "base_uri": "https://localhost:8080/"
        },
        "id": "w2yZWoWGUPe4",
        "outputId": "3ba2b6a5-9895-403d-8d10-890171849844"
      },
      "outputs": [
        {
          "name": "stdout",
          "output_type": "stream",
          "text": [
            "Stock: 9\n",
            "Low stock!\n"
          ]
        }
      ],
      "source": [
        "# TRY, EXCEPT AND ELSE\n",
        "# PUT THIS IN WHILE LOOP\n",
        "\n",
        "stock = input('Stock: ')\n",
        "try:\n",
        "  product_stock = int(stock)\n",
        "except:\n",
        "  print('Wrong input!')\n",
        "else:\n",
        "  if product_stock > 10:\n",
        "    print('Stock level sufficient')\n",
        "  else:\n",
        "    print('Low stock!')"
      ]
    },
    {
      "cell_type": "code",
      "execution_count": 4,
      "metadata": {
        "colab": {
          "base_uri": "https://localhost:8080/"
        },
        "id": "Z1RuwSmJXCwV",
        "outputId": "00934f9f-5aad-4fcb-9fc5-edfd8c1bb469"
      },
      "outputs": [
        {
          "name": "stdout",
          "output_type": "stream",
          "text": [
            "Input stock: 9\n",
            "Low stock!\n"
          ]
        }
      ],
      "source": [
        "stock = input('Input stock: ')\n",
        "\n",
        "try:\n",
        "    product_stock = int(stock)\n",
        "except:\n",
        "    print('Wrong input!')\n",
        "\n",
        "if product_stock > 10:\n",
        "    print('Stock level is sufficient!')\n",
        "else:\n",
        "    print('Low stock!')"
      ]
    },
    {
      "cell_type": "markdown",
      "metadata": {
        "id": "3qar5JwQYi8C"
      },
      "source": [
        "# TASK\n",
        "\n",
        "- Calculate the difference between the actual speed and the speed limit, and then calculate the fine based on the difference (3 euros per km/h over the limit).\n",
        "\n",
        "- If the actual speed does not exceed the speed limit, print \"Speed limit is not exceeded. No fine applied.\"\n",
        "- If the actual speed exceeds the speed limit, check if the fine is less than or equal to 190 euros. If so, print \"{name}, your fine for speeding is {fine} euros.\" - Otherwise, print \"{name}, your fine for speeding is 190 euros.\""
      ]
    },
    {
      "cell_type": "code",
      "execution_count": 5,
      "metadata": {
        "colab": {
          "base_uri": "https://localhost:8080/"
        },
        "id": "w8dxbUPsYZzM",
        "outputId": "9d45da5c-86f6-4415-b1a1-648f399db074"
      },
      "outputs": [
        {
          "name": "stdout",
          "output_type": "stream",
          "text": [
            "Please write your name: Roberta\n",
            "Please input the speed limit: 50\n",
            "Please input your actual speed: 60\n",
            "Roberta, your fine for speeding is 30 euros.\n"
          ]
        }
      ],
      "source": [
        "name = input('Please write your name: ')\n",
        "speed_limit = input('Please input the speed limit: ')\n",
        "actual_speed = input('Please input your actual speed: ')\n",
        "\n",
        "try:\n",
        "  speed_limit = int(speed_limit)\n",
        "  actual_speed = int(actual_speed)\n",
        "except:\n",
        "  print(\"Wrong speed values entered. Please enter km/h.\")\n",
        "else:\n",
        "  difference = actual_speed - speed_limit\n",
        "  fine = difference * 3\n",
        "\n",
        "  if speed_limit >= actual_speed: #difference < 0\n",
        "    print(\"Speed limit is not exceeded. No fine applied.\")\n",
        "  else:\n",
        "    if fine > 190:\n",
        "      print(f\"{name}, your fine for speeding is 190 euros.\")\n",
        "    else:\n",
        "      print(f\"{name}, your fine for speeding is {fine} euros.\")"
      ]
    },
    {
      "cell_type": "code",
      "execution_count": 7,
      "metadata": {
        "colab": {
          "base_uri": "https://localhost:8080/"
        },
        "id": "Ze86lbLUdnwX",
        "outputId": "2b21d591-4ede-407a-c390-46f33ac341e6"
      },
      "outputs": [
        {
          "name": "stdout",
          "output_type": "stream",
          "text": [
            "Please write your name: Rob\n",
            "Please input the speed limit: 50\n",
            "Please input your actual speed: 70\n",
            "Rob, your fine for speeding is 60 euros.\n"
          ]
        }
      ],
      "source": [
        "name = input('Please write your name: ')\n",
        "speed_limit = input('Please input the speed limit: ')\n",
        "actual_speed = input('Please input your actual speed: ')\n",
        "\n",
        "try:\n",
        "  speed_limit = int(speed_limit)\n",
        "  actual_speed = int(actual_speed)\n",
        "except:\n",
        "  print(\"Wrong speed values entered. Please enter km/h.\")\n",
        "else:\n",
        "  difference = actual_speed - speed_limit\n",
        "  fine = difference * 3\n",
        "  if speed_limit < 0 or actual_speed < 0:\n",
        "    print('Speed limit MUST be positive')\n",
        "  elif speed_limit >= actual_speed: #difference < 0\n",
        "    print(\"Speed limit is not exceeded. No fine applied.\")\n",
        "  else:\n",
        "    fine = min(190, difference * 3)\n",
        "    print(f'{name}, your fine for speeding is {fine} euros.')"
      ]
    },
    {
      "cell_type": "markdown",
      "metadata": {
        "id": "ptVDAfH4iNNA"
      },
      "source": [
        "# LISTS"
      ]
    },
    {
      "cell_type": "code",
      "execution_count": 9,
      "metadata": {
        "colab": {
          "base_uri": "https://localhost:8080/"
        },
        "id": "UDx4KyabiaAY",
        "outputId": "29c8f804-10f5-4076-c73e-bb860bb6333e"
      },
      "outputs": [
        {
          "name": "stdout",
          "output_type": "stream",
          "text": [
            "<class 'str'>\n"
          ]
        }
      ],
      "source": [
        "flowers = \"pink primrose,hard-leaved pocket orchid,canterbury bells,sweet pea,english marigold,tiger lily,moon orchid,bird of paradise,monkshood,globe thistle\"\n",
        "\n",
        "print(type(flowers))"
      ]
    },
    {
      "cell_type": "code",
      "execution_count": null,
      "metadata": {
        "id": "YAUJ63IvjTSm"
      },
      "outputs": [],
      "source": []
    },
    {
      "cell_type": "code",
      "execution_count": 10,
      "metadata": {
        "colab": {
          "base_uri": "https://localhost:8080/"
        },
        "id": "Gc6SsCJqjFWE",
        "outputId": "85e7b81e-f75d-463b-9ca1-185c4d18978d"
      },
      "outputs": [
        {
          "name": "stdout",
          "output_type": "stream",
          "text": [
            "<class 'list'>\n"
          ]
        }
      ],
      "source": [
        "flowers = [\"pink primrose\", \"hard-leaved pocket orchid\",\"canterbury bells\",\"sweet pea\",\"english marigold\",\"tiger lily\",\"moon orchid\",\"bird of paradise\",\"monkshood\",\"globe thistle\"]\n",
        "print(type(flowers))"
      ]
    },
    {
      "cell_type": "code",
      "execution_count": 11,
      "metadata": {
        "colab": {
          "base_uri": "https://localhost:8080/"
        },
        "id": "X3aOOI1-kHpj",
        "outputId": "09b56c75-563d-4fa9-b1b2-66976e651aea"
      },
      "outputs": [
        {
          "name": "stdout",
          "output_type": "stream",
          "text": [
            "10\n"
          ]
        }
      ],
      "source": [
        "# HOW MANY ITEMS IN THE LIST?\n",
        "\n",
        "print(len(flowers))"
      ]
    },
    {
      "cell_type": "code",
      "execution_count": 16,
      "metadata": {
        "colab": {
          "base_uri": "https://localhost:8080/"
        },
        "id": "IV0emDRVkh-T",
        "outputId": "c3c61d1b-ae2d-4ff1-c43a-dfef1a1e3858"
      },
      "outputs": [
        {
          "name": "stdout",
          "output_type": "stream",
          "text": [
            "First entry: pink primrose\n",
            "hard-leaved pocket orchid\n",
            "Last entry is: globe thistle\n"
          ]
        }
      ],
      "source": [
        "print('First entry:', flowers[0])\n",
        "print(flowers[1])\n",
        "\n",
        "print(\"Last entry is:\", flowers[-1])"
      ]
    },
    {
      "cell_type": "markdown",
      "metadata": {
        "id": "fcoZkA47mU-4"
      },
      "source": [
        "flowers = [\"pink primrose\", \"hard-leaved pocket orchid\",\"canterbury bells\",\"sweet pea\",\"english marigold\",\"tiger lily\",\"moon orchid\",\"bird of paradise\",\"monkshood\",\"globe thistle\"]\n"
      ]
    },
    {
      "cell_type": "code",
      "execution_count": 19,
      "metadata": {
        "colab": {
          "base_uri": "https://localhost:8080/"
        },
        "id": "sGMz30HLlX3K",
        "outputId": "2167e749-e169-4076-f8f7-57cf8127870e"
      },
      "outputs": [
        {
          "name": "stdout",
          "output_type": "stream",
          "text": [
            "['hard-leaved pocket orchid', 'canterbury bells', 'sweet pea', 'english marigold']\n",
            "['pink primrose', 'hard-leaved pocket orchid', 'canterbury bells', 'sweet pea', 'english marigold']\n"
          ]
        }
      ],
      "source": [
        "print(flowers[1:5])\n",
        "\n",
        "print(flowers[:5]) #"
      ]
    },
    {
      "cell_type": "code",
      "execution_count": 20,
      "metadata": {
        "colab": {
          "base_uri": "https://localhost:8080/"
        },
        "id": "U8AJmpOhmxhF",
        "outputId": "720eb190-e055-4509-9eb5-5f30010048b3"
      },
      "outputs": [
        {
          "name": "stdout",
          "output_type": "stream",
          "text": [
            "Every other item: ['pink primrose', 'canterbury bells', 'english marigold', 'moon orchid', 'monkshood']\n"
          ]
        }
      ],
      "source": [
        "print('Every other item:', flowers[::2]) #every second item"
      ]
    },
    {
      "cell_type": "code",
      "execution_count": 21,
      "metadata": {
        "colab": {
          "base_uri": "https://localhost:8080/"
        },
        "id": "o73_i0xhnCDp",
        "outputId": "65ea21c5-549d-4f4e-b644-cc1f2146b408"
      },
      "outputs": [
        {
          "name": "stdout",
          "output_type": "stream",
          "text": [
            "pink primrose\n",
            "canterbury bells\n",
            "english marigold\n",
            "moon orchid\n",
            "monkshood\n"
          ]
        }
      ],
      "source": [
        "for item in flowers[::2]:\n",
        "    print(item)"
      ]
    },
    {
      "cell_type": "code",
      "execution_count": 22,
      "metadata": {
        "id": "8OnFC_c0oA34"
      },
      "outputs": [],
      "source": [
        "my_list = ['one', 'two', 'three', 4, 5]"
      ]
    },
    {
      "cell_type": "code",
      "execution_count": null,
      "metadata": {
        "id": "fMhyUQOGodXK"
      },
      "outputs": [],
      "source": []
    },
    {
      "cell_type": "code",
      "execution_count": 23,
      "metadata": {
        "colab": {
          "base_uri": "https://localhost:8080/"
        },
        "id": "Bh-y_zqXoSaE",
        "outputId": "ae092581-fcfe-45cc-8b5b-2c92d303678e"
      },
      "outputs": [
        {
          "name": "stdout",
          "output_type": "stream",
          "text": [
            "two\n"
          ]
        }
      ],
      "source": [
        "print(my_list[1])"
      ]
    },
    {
      "cell_type": "code",
      "execution_count": 24,
      "metadata": {
        "colab": {
          "base_uri": "https://localhost:8080/"
        },
        "id": "Boue_n-NoiIp",
        "outputId": "35a101bb-337e-4038-f47a-ffe787bdf489"
      },
      "outputs": [
        {
          "name": "stdout",
          "output_type": "stream",
          "text": [
            "4\n",
            "4\n"
          ]
        }
      ],
      "source": [
        "print(my_list[-2])\n",
        "print(my_list[3])"
      ]
    },
    {
      "cell_type": "code",
      "execution_count": 28,
      "metadata": {
        "id": "5IrVzx1foufc"
      },
      "outputs": [],
      "source": [
        "my_list = my_list + ['new item'] #ADDING NEW ITEM"
      ]
    },
    {
      "cell_type": "code",
      "execution_count": 29,
      "metadata": {
        "colab": {
          "base_uri": "https://localhost:8080/"
        },
        "id": "LnqDZYzvoy_8",
        "outputId": "8c8451f9-a459-4018-c60f-1eda53ca3899"
      },
      "outputs": [
        {
          "data": {
            "text/plain": [
              "['one', 'two', 'three', 4, 5, 'new item']"
            ]
          },
          "execution_count": 29,
          "metadata": {},
          "output_type": "execute_result"
        }
      ],
      "source": [
        "my_list"
      ]
    },
    {
      "cell_type": "code",
      "execution_count": 30,
      "metadata": {
        "id": "LPzqBh0Ipj-U"
      },
      "outputs": [],
      "source": [
        "my_list[1] = 2"
      ]
    },
    {
      "cell_type": "code",
      "execution_count": 31,
      "metadata": {
        "colab": {
          "base_uri": "https://localhost:8080/"
        },
        "id": "cUcycvJsps_n",
        "outputId": "6ba3a29c-d1e2-4e8b-9bd2-a13d5333d07d"
      },
      "outputs": [
        {
          "data": {
            "text/plain": [
              "['one', 2, 'three', 4, 5, 'new item']"
            ]
          },
          "execution_count": 31,
          "metadata": {},
          "output_type": "execute_result"
        }
      ],
      "source": [
        "my_list"
      ]
    },
    {
      "cell_type": "code",
      "execution_count": 32,
      "metadata": {
        "id": "tLMe3gNsp6fN"
      },
      "outputs": [],
      "source": [
        "my_list.append('append me')"
      ]
    },
    {
      "cell_type": "code",
      "execution_count": 34,
      "metadata": {
        "colab": {
          "base_uri": "https://localhost:8080/"
        },
        "id": "QJv9ZqdVqR6Q",
        "outputId": "cedf0b6e-0446-418b-e4d0-1a52bfd791b7"
      },
      "outputs": [
        {
          "data": {
            "text/plain": [
              "4"
            ]
          },
          "execution_count": 34,
          "metadata": {},
          "output_type": "execute_result"
        }
      ],
      "source": [
        "my_list.pop(3)"
      ]
    },
    {
      "cell_type": "code",
      "execution_count": 35,
      "metadata": {
        "colab": {
          "base_uri": "https://localhost:8080/"
        },
        "id": "mBHzZJ1eqSw0",
        "outputId": "cd83d587-b764-4c15-b353-f62728d519b7"
      },
      "outputs": [
        {
          "data": {
            "text/plain": [
              "['one', 2, 'three', 5, 'new item', 'append me']"
            ]
          },
          "execution_count": 35,
          "metadata": {},
          "output_type": "execute_result"
        }
      ],
      "source": [
        "my_list"
      ]
    }
  ],
  "metadata": {
    "colab": {
      "provenance": []
    },
    "kernelspec": {
      "display_name": "Python 3",
      "name": "python3"
    },
    "language_info": {
      "name": "python"
    }
  },
  "nbformat": 4,
  "nbformat_minor": 0
}
