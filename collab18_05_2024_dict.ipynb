{
  "nbformat": 4,
  "nbformat_minor": 0,
  "metadata": {
    "colab": {
      "provenance": []
    },
    "kernelspec": {
      "name": "python3",
      "display_name": "Python 3"
    },
    "language_info": {
      "name": "python"
    }
  },
  "cells": [
    {
      "cell_type": "markdown",
      "source": [
        "Tuples"
      ],
      "metadata": {
        "id": "IgkfMiCnhA0g"
      }
    },
    {
      "cell_type": "code",
      "execution_count": 1,
      "metadata": {
        "colab": {
          "base_uri": "https://localhost:8080/"
        },
        "id": "khrjCmrzdl5Q",
        "outputId": "7620416b-73ed-4fb5-fd21-07b5ce0d78e7"
      },
      "outputs": [
        {
          "output_type": "stream",
          "name": "stdout",
          "text": [
            "(1, 2, 3)\n"
          ]
        }
      ],
      "source": [
        "my_dict = {} #how we define a dictionary.\n",
        "my_list = [] #how we define a list\n",
        "my_tuple = () #how we define a tuple\n",
        "\n",
        "my_tuple = (1,2,3)\n",
        "print(my_tuple)"
      ]
    },
    {
      "cell_type": "markdown",
      "source": [
        "Transforming to tuple"
      ],
      "metadata": {
        "id": "XN_-zxvnhaUd"
      }
    },
    {
      "cell_type": "code",
      "source": [
        "new_list = [1,2,3,4]\n",
        "print(new_list)\n",
        "\n",
        "#transform the list to a tuple\n",
        "new_tuple = tuple(new_list)\n",
        "type(new_tuple)"
      ],
      "metadata": {
        "colab": {
          "base_uri": "https://localhost:8080/"
        },
        "id": "_GdfY4fmhrfm",
        "outputId": "229a420f-ccb8-414c-85cc-49aade1f1e9e"
      },
      "execution_count": 3,
      "outputs": [
        {
          "output_type": "stream",
          "name": "stdout",
          "text": [
            "[1, 2, 3, 4]\n"
          ]
        },
        {
          "output_type": "execute_result",
          "data": {
            "text/plain": [
              "tuple"
            ]
          },
          "metadata": {},
          "execution_count": 3
        }
      ]
    },
    {
      "cell_type": "code",
      "source": [
        "new_tuple[0:3] #you can index into tuples"
      ],
      "metadata": {
        "colab": {
          "base_uri": "https://localhost:8080/"
        },
        "id": "Xsh3MgJIiJmR",
        "outputId": "c207eb92-4b4a-4f60-d00a-301be1562e06"
      },
      "execution_count": 6,
      "outputs": [
        {
          "output_type": "execute_result",
          "data": {
            "text/plain": [
              "(1, 2, 3)"
            ]
          },
          "metadata": {},
          "execution_count": 6
        }
      ]
    },
    {
      "cell_type": "code",
      "source": [
        "# Common functions for tuples\n",
        "len(new_tuple) #length\n",
        "min(new_tuple) #min\n",
        "max(new_tuple) #max\n",
        "sum(new_tuple) #sum"
      ],
      "metadata": {
        "colab": {
          "base_uri": "https://localhost:8080/"
        },
        "id": "UAh3nPd7iLzq",
        "outputId": "3aa775e0-e818-4f8d-98b8-fdb2f40b8b6e"
      },
      "execution_count": 8,
      "outputs": [
        {
          "output_type": "execute_result",
          "data": {
            "text/plain": [
              "10"
            ]
          },
          "metadata": {},
          "execution_count": 8
        }
      ]
    },
    {
      "cell_type": "code",
      "source": [
        "# tuple == immutable"
      ],
      "metadata": {
        "colab": {
          "base_uri": "https://localhost:8080/",
          "height": 141
        },
        "id": "lgWSxVCEjmQc",
        "outputId": "0bbbd6c1-3395-4b3e-db54-c5b6eeb91904"
      },
      "execution_count": 9,
      "outputs": [
        {
          "output_type": "error",
          "ename": "AttributeError",
          "evalue": "'tuple' object has no attribute 'append'",
          "traceback": [
            "\u001b[0;31m---------------------------------------------------------------------------\u001b[0m",
            "\u001b[0;31mAttributeError\u001b[0m                            Traceback (most recent call last)",
            "\u001b[0;32m<ipython-input-9-9c43df62ec48>\u001b[0m in \u001b[0;36m<cell line: 1>\u001b[0;34m()\u001b[0m\n\u001b[0;32m----> 1\u001b[0;31m \u001b[0mnew_tuple\u001b[0m\u001b[0;34m.\u001b[0m\u001b[0mappend\u001b[0m\u001b[0;34m(\u001b[0m\u001b[0;36m1\u001b[0m\u001b[0;34m)\u001b[0m\u001b[0;34m\u001b[0m\u001b[0;34m\u001b[0m\u001b[0m\n\u001b[0m",
            "\u001b[0;31mAttributeError\u001b[0m: 'tuple' object has no attribute 'append'"
          ]
        }
      ]
    },
    {
      "cell_type": "markdown",
      "source": [
        "### Dictionary"
      ],
      "metadata": {
        "id": "d9o36KZQk7uF"
      }
    },
    {
      "cell_type": "code",
      "source": [
        "# Create a dictionary\n",
        "dictionary = {} #curly braces method\n",
        "another_dictionary = dict() #dict method\n",
        "\n",
        "dictionary == another_dictionary"
      ],
      "metadata": {
        "colab": {
          "base_uri": "https://localhost:8080/"
        },
        "id": "GzGO4aVElPPG",
        "outputId": "62ad36d0-3af3-4388-cc15-5fed3a68f3f4"
      },
      "execution_count": 11,
      "outputs": [
        {
          "output_type": "execute_result",
          "data": {
            "text/plain": [
              "True"
            ]
          },
          "metadata": {},
          "execution_count": 11
        }
      ]
    },
    {
      "cell_type": "code",
      "source": [
        "dictionary = {} #curly braces method\n",
        "\n",
        "dictionary['key1'] = 'value1' #add an element to the dictionary"
      ],
      "metadata": {
        "id": "4Bqhc6cll9oX"
      },
      "execution_count": 12,
      "outputs": []
    },
    {
      "cell_type": "code",
      "source": [
        "dictionary['key2'] = 'value2'"
      ],
      "metadata": {
        "id": "xyEzZK4_mVvO"
      },
      "execution_count": 19,
      "outputs": []
    },
    {
      "cell_type": "code",
      "source": [
        "dictionary['key2'] #use the key to get to the element"
      ],
      "metadata": {
        "colab": {
          "base_uri": "https://localhost:8080/",
          "height": 35
        },
        "id": "Q-D-QFF6mPIj",
        "outputId": "16d84a71-c177-4c4e-ff70-756cf259123d"
      },
      "execution_count": 20,
      "outputs": [
        {
          "output_type": "execute_result",
          "data": {
            "text/plain": [
              "'value2'"
            ],
            "application/vnd.google.colaboratory.intrinsic+json": {
              "type": "string"
            }
          },
          "metadata": {},
          "execution_count": 20
        }
      ]
    },
    {
      "cell_type": "code",
      "source": [
        "# storing a list in a dictionary\n",
        "dictionary['datorium_list'] = ['Python', 'Java', 'C#']\n",
        "dictionary"
      ],
      "metadata": {
        "colab": {
          "base_uri": "https://localhost:8080/"
        },
        "id": "C-eKej4EpAXw",
        "outputId": "cc61eb07-d976-46de-b013-7776c18bfb8f"
      },
      "execution_count": 21,
      "outputs": [
        {
          "output_type": "execute_result",
          "data": {
            "text/plain": [
              "{'key1': 'value1', 'key2': 'value2', 'datorium_list': ['Python', 'Java', 'C#']}"
            ]
          },
          "metadata": {},
          "execution_count": 21
        }
      ]
    },
    {
      "cell_type": "code",
      "source": [
        "dictionary['datorium_list'] = [1,2,3]\n",
        "#we can not have two different values with the same key"
      ],
      "metadata": {
        "id": "IygvXVlwpvLs"
      },
      "execution_count": 22,
      "outputs": []
    },
    {
      "cell_type": "code",
      "source": [
        "dictionary"
      ],
      "metadata": {
        "colab": {
          "base_uri": "https://localhost:8080/"
        },
        "id": "i2nnjYzJp1Mo",
        "outputId": "7cf97a40-1145-4a5c-eef1-0ddcb184276f"
      },
      "execution_count": 23,
      "outputs": [
        {
          "output_type": "execute_result",
          "data": {
            "text/plain": [
              "{'key1': 'value1', 'key2': 'value2', 'datorium_list': [1, 2, 3]}"
            ]
          },
          "metadata": {},
          "execution_count": 23
        }
      ]
    },
    {
      "cell_type": "markdown",
      "source": [
        "### Python dictionary methods"
      ],
      "metadata": {
        "id": "nqhlWRxGqeZi"
      }
    },
    {
      "cell_type": "code",
      "source": [
        "my_friends = {'Alise': 30,\n",
        "              'Johan': 40,\n",
        "              'Linda': 28}"
      ],
      "metadata": {
        "id": "SPyMyTGvqmpY"
      },
      "execution_count": 25,
      "outputs": []
    },
    {
      "cell_type": "code",
      "source": [
        "my_friends['Linda']"
      ],
      "metadata": {
        "colab": {
          "base_uri": "https://localhost:8080/"
        },
        "id": "O8xKGDilrD5i",
        "outputId": "efadded5-575a-445f-cfb7-7480f708083e"
      },
      "execution_count": 26,
      "outputs": [
        {
          "output_type": "execute_result",
          "data": {
            "text/plain": [
              "28"
            ]
          },
          "metadata": {},
          "execution_count": 26
        }
      ]
    },
    {
      "cell_type": "code",
      "source": [
        "# update() - adds new dict to existing one\n",
        "\n",
        "incoming_friends = {'Arta': 28}\n",
        "my_friends.update(incoming_friends)\n",
        "\n",
        "integer_key = {123: 'name'}\n",
        "integer_key"
      ],
      "metadata": {
        "id": "eoUoeltGq48H"
      },
      "execution_count": 28,
      "outputs": []
    },
    {
      "cell_type": "code",
      "source": [
        "# pop() - removing an element\n",
        "my_friends.pop('Alise')"
      ],
      "metadata": {
        "colab": {
          "base_uri": "https://localhost:8080/"
        },
        "id": "6pvk4CWYrbPt",
        "outputId": "7790d90b-a128-468d-f955-1669df0ef6c8"
      },
      "execution_count": 32,
      "outputs": [
        {
          "output_type": "execute_result",
          "data": {
            "text/plain": [
              "30"
            ]
          },
          "metadata": {},
          "execution_count": 32
        }
      ]
    },
    {
      "cell_type": "code",
      "source": [
        "my_friends['Linda']"
      ],
      "metadata": {
        "colab": {
          "base_uri": "https://localhost:8080/"
        },
        "id": "bmMvnKLrubEc",
        "outputId": "a5cfe265-a522-42b5-f30f-f46aaa6f7185"
      },
      "execution_count": 47,
      "outputs": [
        {
          "output_type": "execute_result",
          "data": {
            "text/plain": [
              "28"
            ]
          },
          "metadata": {},
          "execution_count": 47
        }
      ]
    },
    {
      "cell_type": "code",
      "source": [
        "# get() - to specify a fallback value when item is not in a dictionary\n",
        "\n",
        "# my_friends['Alise'] -KeyError: 'Alise'\n",
        "\n",
        "my_friends.get('Alise', 'This person does not exist in the dictionary!')\n"
      ],
      "metadata": {
        "colab": {
          "base_uri": "https://localhost:8080/",
          "height": 35
        },
        "id": "QmeBu__xsfpG",
        "outputId": "519765ab-4d1d-477c-fd58-10b046ecfcda"
      },
      "execution_count": 48,
      "outputs": [
        {
          "output_type": "execute_result",
          "data": {
            "text/plain": [
              "'This person does not exist in the dictionary!'"
            ],
            "application/vnd.google.colaboratory.intrinsic+json": {
              "type": "string"
            }
          },
          "metadata": {},
          "execution_count": 48
        }
      ]
    },
    {
      "cell_type": "code",
      "source": [
        "my_friends.get('Alise') # no callback value - get nothing\n",
        "my_friends.get('Alise', 'This person does not exist in the dictionary!') # with callback will get the callback/default val"
      ],
      "metadata": {
        "id": "2_ysuqPRv-Ii"
      },
      "execution_count": 49,
      "outputs": []
    },
    {
      "cell_type": "code",
      "source": [
        "# items(), keys(), values()\n",
        "\n",
        "#items() - return all the obj from the dict\n",
        "my_friends.items()\n",
        "\n",
        "#keys() - returns only keys\n",
        "my_friends.keys()\n",
        "\n",
        "#values() - returns only values\n",
        "my_friends.values()"
      ],
      "metadata": {
        "colab": {
          "base_uri": "https://localhost:8080/"
        },
        "id": "SriG38jys_6p",
        "outputId": "d4bbf0bf-1256-4cef-ce86-2449b627d683"
      },
      "execution_count": 42,
      "outputs": [
        {
          "output_type": "execute_result",
          "data": {
            "text/plain": [
              "dict_values([40, 28, 28])"
            ]
          },
          "metadata": {},
          "execution_count": 42
        }
      ]
    },
    {
      "cell_type": "markdown",
      "source": [
        "### Contact book"
      ],
      "metadata": {
        "id": "uH4fW4-ox6wq"
      }
    },
    {
      "cell_type": "code",
      "source": [
        "contact_book = {} #initiate empty dict\n",
        "\n",
        "name = input('Enter the name: ') #key\n",
        "number = input('Enter number: ') #value\n",
        "\n",
        "new_dict = {name:number}\n",
        "contact_book.update(new_dict)\n",
        "\n",
        "#contact_book[name] = number #adding element to the dict\n",
        "print(f'Contact {name} added successfully!')"
      ],
      "metadata": {
        "colab": {
          "base_uri": "https://localhost:8080/"
        },
        "id": "w2Uz_Xjbt5wm",
        "outputId": "846286e6-3ace-4cfc-e099-d6ec70089c42"
      },
      "execution_count": 51,
      "outputs": [
        {
          "output_type": "stream",
          "name": "stdout",
          "text": [
            "Enter the name: Liza\n",
            "Enter number: 73849\n",
            "Contact Liza added successfully!\n"
          ]
        }
      ]
    },
    {
      "cell_type": "markdown",
      "source": [
        "### Add this code to run until user writes STOP"
      ],
      "metadata": {
        "id": "7gHbBnV-0ZSf"
      }
    },
    {
      "cell_type": "code",
      "source": [
        "contact_book = {} #do not initiate an empty dict if adding values to existing contact book\n",
        "\n",
        "while True:\n",
        "    print('If you want to stop adding names into contact books write \"STOP\".')\n",
        "    name = input('Enter the name: ')\n",
        "    if name == \"STOP\":\n",
        "        print('No more entries to contact book.')\n",
        "        break\n",
        "    number = input('Enter phone number: ')\n",
        "    contact_book[name] = number\n",
        "    print(f'Contact {name} added successfully.')\n",
        "\n",
        "print(contact_book)"
      ],
      "metadata": {
        "colab": {
          "base_uri": "https://localhost:8080/"
        },
        "id": "_S5aN9Pq0K8-",
        "outputId": "ab9a2f26-ceb8-444b-ce43-ed8ca069619b"
      },
      "execution_count": 52,
      "outputs": [
        {
          "output_type": "stream",
          "name": "stdout",
          "text": [
            "If you want to stop adding names into contact books write \"STOP\".\n",
            "Enter the name: Roberta\n",
            "Enter phone number: 12345\n",
            "Contact Roberta added successfully.\n",
            "If you want to stop adding names into contact books write \"STOP\".\n",
            "Enter the name: Linda\n",
            "Enter phone number: 7890\n",
            "Contact Linda added successfully.\n",
            "If you want to stop adding names into contact books write \"STOP\".\n",
            "Enter the name: STOP\n",
            "No more entries to contact book.\n",
            "{'Roberta': '12345', 'Linda': '7890'}\n"
          ]
        }
      ]
    },
    {
      "cell_type": "markdown",
      "source": [
        "### Store inventory management"
      ],
      "metadata": {
        "id": "YO6rUBgt1wQk"
      }
    },
    {
      "cell_type": "code",
      "source": [
        "# initiate empty dict\n",
        "inventory = {}\n",
        "# add item (key), quantity (value) in the dictionary (ADDING)\n",
        "\n",
        "store_item = input(\"Enter the item name: \")\n",
        "item_quantity = input(\"Enter the quantity for the item: \")\n",
        "inventory[store_item] = item_quantity\n",
        "\n",
        "# inform user that element is added\n",
        "print(f\"Item {store_item} quantity updated!\")"
      ],
      "metadata": {
        "colab": {
          "base_uri": "https://localhost:8080/"
        },
        "id": "HsS25mgU10HL",
        "outputId": "4a1ef134-0331-4549-c682-c6575f8f92cf"
      },
      "execution_count": 53,
      "outputs": [
        {
          "output_type": "stream",
          "name": "stdout",
          "text": [
            "Enter the item name: Orange\n",
            "Enter the quantity for the item: 100\n",
            "item Orange quantity updated!\n"
          ]
        }
      ]
    },
    {
      "cell_type": "code",
      "source": [
        "inventory = {}"
      ],
      "metadata": {
        "id": "5jtqY4UQ3teV"
      },
      "execution_count": null,
      "outputs": []
    },
    {
      "cell_type": "code",
      "source": [
        "while True:\n",
        "  exit = input('If you want to exit write STOP, else nothing')\n",
        "  if exit == 'STOP':\n",
        "    print(\"You've stopped entries for today. See you next time!\")\n",
        "    break\n",
        "  store_item = input(\"Enter the item name: \")\n",
        "  item_quantity = input(\"Enter the quantity for the item: \")\n",
        "  inventory[store_item] = item_quantity\n",
        "  print(f\"Item {store_item} quantity updated!\")"
      ],
      "metadata": {
        "colab": {
          "base_uri": "https://localhost:8080/"
        },
        "id": "abX7OeID3PC7",
        "outputId": "bc1bdd3b-3b8e-4a79-c12d-88651f113798"
      },
      "execution_count": 54,
      "outputs": [
        {
          "output_type": "stream",
          "name": "stdout",
          "text": [
            "If you want to exit write STOP\n",
            "Enter the item name: Orange\n",
            "Enter the quantity for the item: 10\n",
            "Item Orange quantity updated!\n",
            "If you want to exit write STOPSTOP\n",
            "You've stopped entries for today. See you next time!\n"
          ]
        }
      ]
    },
    {
      "cell_type": "code",
      "source": [
        "while True:\n",
        "    item = input(\"Please enter inventory item, to exit write STOP : \")\n",
        "    if item == \"STOP\":\n",
        "        print(\"That's all!\")\n",
        "        break\n",
        "    amount = input(\"Please enter how many we have of this item: \")\n",
        "    inventory[item] = amount  # adding element to the dictionary\n",
        "    print(f'Item {item} has been added successfully!')\n",
        "\n",
        "print(f'Your inventory is: {inventory}')"
      ],
      "metadata": {
        "colab": {
          "base_uri": "https://localhost:8080/"
        },
        "id": "HhBBC6qU37hb",
        "outputId": "87832ccd-5190-4460-995d-849c91b9d724"
      },
      "execution_count": 55,
      "outputs": [
        {
          "output_type": "stream",
          "name": "stdout",
          "text": [
            "Please enter inventory item: Apple\n",
            "Please enter how many we have of this item: 20\n",
            "Contact Apple has been added successfully!\n",
            "Please enter inventory item: STOP\n",
            "That's all!\n",
            "Your inventory is: {'Orange': '10', 'Apple': '20'}\n"
          ]
        }
      ]
    },
    {
      "cell_type": "markdown",
      "source": [
        "### Functions"
      ],
      "metadata": {
        "id": "PWI48kNA5NsS"
      }
    },
    {
      "cell_type": "code",
      "source": [
        "inventory = {}"
      ],
      "metadata": {
        "id": "f8j4zkN35CMb"
      },
      "execution_count": 56,
      "outputs": []
    },
    {
      "cell_type": "code",
      "source": [
        "# function of adding an item to a dictionary\n",
        "def add_item(inventory):\n",
        "  store_item = input(\"Enter the item name: \")\n",
        "  item_quantity = input(\"Enter the quantity for the item: \")\n",
        "  inventory[store_item] = item_quantity\n",
        "  print(f\"Item {store_item} quantity updated!\")"
      ],
      "metadata": {
        "id": "tAosX3d35VgS"
      },
      "execution_count": 57,
      "outputs": []
    },
    {
      "cell_type": "code",
      "source": [
        "while True:\n",
        "  exit = input('If you want to exit write STOP, else nothing')\n",
        "  if exit == 'STOP':\n",
        "    print(\"You've stopped entries for today. See you next time!\")\n",
        "    break\n",
        "  add_item(inventory) #initializing the function"
      ],
      "metadata": {
        "colab": {
          "base_uri": "https://localhost:8080/"
        },
        "id": "1RlG9jnf4vSl",
        "outputId": "64383c11-08bc-431a-da89-5ea3cfa56a2f"
      },
      "execution_count": 58,
      "outputs": [
        {
          "output_type": "stream",
          "name": "stdout",
          "text": [
            "If you want to exit write STOP, else nothing\n",
            "Enter the item name: Apple\n",
            "Enter the quantity for the item: 100\n",
            "Item Apple quantity updated!\n",
            "If you want to exit write STOP, else nothing\n",
            "Enter the item name: Pineapple\n",
            "Enter the quantity for the item: 3\n",
            "Item Pineapple quantity updated!\n",
            "If you want to exit write STOP, else nothingSTOP\n",
            "You've stopped entries for today. See you next time!\n"
          ]
        }
      ]
    }
  ]
}