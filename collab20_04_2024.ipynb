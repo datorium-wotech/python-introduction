{
  "nbformat": 4,
  "nbformat_minor": 0,
  "metadata": {
    "colab": {
      "provenance": []
    },
    "kernelspec": {
      "name": "python3",
      "display_name": "Python 3"
    },
    "language_info": {
      "name": "python"
    }
  },
  "cells": [
    {
      "cell_type": "code",
      "execution_count": 7,
      "metadata": {
        "id": "2noXI2njXCCs"
      },
      "outputs": [],
      "source": [
        "age = \"18.5\""
      ]
    },
    {
      "cell_type": "code",
      "source": [
        "type(age)"
      ],
      "metadata": {
        "colab": {
          "base_uri": "https://localhost:8080/"
        },
        "id": "IeS4kpAWXGEg",
        "outputId": "73976f3e-8435-4863-a4c6-cda63cbdb19f"
      },
      "execution_count": 2,
      "outputs": [
        {
          "output_type": "execute_result",
          "data": {
            "text/plain": [
              "str"
            ]
          },
          "metadata": {},
          "execution_count": 2
        }
      ]
    },
    {
      "cell_type": "code",
      "source": [
        "float(age)"
      ],
      "metadata": {
        "colab": {
          "base_uri": "https://localhost:8080/"
        },
        "id": "qDwoGUc5XKa_",
        "outputId": "96a74934-afc2-4b2c-f0f2-59a2d4a430d3"
      },
      "execution_count": 8,
      "outputs": [
        {
          "output_type": "execute_result",
          "data": {
            "text/plain": [
              "18.5"
            ]
          },
          "metadata": {},
          "execution_count": 8
        }
      ]
    },
    {
      "cell_type": "code",
      "source": [
        "fruits = [\"apple\", \"orange\", \"banana\", \"grape\", \"kiwi\"]"
      ],
      "metadata": {
        "id": "a3QoGcYkXOdV"
      },
      "execution_count": 9,
      "outputs": []
    },
    {
      "cell_type": "markdown",
      "source": [
        "The user is prompted to enter a fruit name using the input() function.\n",
        "We use an if-else statement to check if the entered fruit is present in the fruits list.\n",
        "If the entered fruit is in the list, it prints a confirmation message. Otherwise, it prints a message indicating that the fruit is not in the list."
      ],
      "metadata": {
        "id": "EXi6ETE5YHgi"
      }
    },
    {
      "cell_type": "code",
      "source": [
        "# check if input exists in list\n",
        "\n",
        "user_input = input(\"Enter the fruit: \")\n",
        "if user_input in fruits:\n",
        "    print(f\"Yes, {user_input} is in our list of fruits!\")\n",
        "else:\n",
        "    print(f\"No, {user_input} is not in our list of fruits!\")"
      ],
      "metadata": {
        "colab": {
          "base_uri": "https://localhost:8080/"
        },
        "id": "Z1o5j-toYCNs",
        "outputId": "80cba165-5550-4577-c24b-2df17385dccd"
      },
      "execution_count": 11,
      "outputs": [
        {
          "output_type": "stream",
          "name": "stdout",
          "text": [
            "Enter the fruit: kiwi\n",
            "Yes, kiwi is in our list of fruits!\n"
          ]
        }
      ]
    },
    {
      "cell_type": "code",
      "source": [
        "numbers = [1,20,35,400,5]"
      ],
      "metadata": {
        "id": "J56PZPjeZREV"
      },
      "execution_count": 13,
      "outputs": []
    },
    {
      "cell_type": "markdown",
      "source": [
        "The user is prompted to enter a number using the input() function, and the input is converted to an integer using int().\n",
        "We first check if the entered number is in the numbers list using an if statement.\n",
        "If the number is in the list, we further check if it's even or odd using another if-else statement nested inside the first one.\n",
        "Depending on the result, it prints a message indicating whether the number is even or odd and whether it's in the list or not."
      ],
      "metadata": {
        "id": "9Two1k-nZd0G"
      }
    },
    {
      "cell_type": "code",
      "source": [
        "user_number = int(input(\"Please enter a number: \"))\n",
        "\n",
        "if user_number in numbers:\n",
        "  if user_number %2 == 0:\n",
        "    print('Your even number is on the list')\n",
        "  else:\n",
        "    print('Your odd number is on the list')\n",
        "else:\n",
        "  print('Your number is not on the list')"
      ],
      "metadata": {
        "colab": {
          "base_uri": "https://localhost:8080/"
        },
        "id": "6Ex-1ieKZZtz",
        "outputId": "30caeca6-3bb7-4885-9308-2417685aaa0a"
      },
      "execution_count": 14,
      "outputs": [
        {
          "output_type": "stream",
          "name": "stdout",
          "text": [
            "Please enter a number: 400\n",
            "Your even number is on the list\n"
          ]
        }
      ]
    },
    {
      "cell_type": "markdown",
      "source": [
        "### List methods"
      ],
      "metadata": {
        "id": "y9LDZqxobtKH"
      }
    },
    {
      "cell_type": "code",
      "source": [
        "# APPEND\n",
        "\n",
        "items = ['apple', 'kiwi', 'orange']\n",
        "print(f'original items {items}')\n",
        "\n",
        "my_value = 'banana'\n",
        "items.append(my_value)\n",
        "print(f'changed items {items}')\n"
      ],
      "metadata": {
        "colab": {
          "base_uri": "https://localhost:8080/"
        },
        "id": "D8GveE5sb_pk",
        "outputId": "8745f8ed-84e2-40e2-cc73-90413563f3f2"
      },
      "execution_count": 17,
      "outputs": [
        {
          "output_type": "stream",
          "name": "stdout",
          "text": [
            "original items ['apple', 'kiwi', 'orange']\n",
            "changed items ['apple', 'kiwi', 'orange', 'banana']\n"
          ]
        }
      ]
    },
    {
      "cell_type": "code",
      "source": [
        "# COPY\n",
        "\n",
        "original_list = [1,2,3,4,5]\n",
        "copied_list = original_list.copy()\n",
        "\n",
        "original_list.append(6)\n",
        "\n",
        "print(original_list)\n",
        "print(copied_list)"
      ],
      "metadata": {
        "colab": {
          "base_uri": "https://localhost:8080/"
        },
        "id": "Ei_THnA0cOx3",
        "outputId": "c970cdb8-9073-456d-bd92-22fb5ba00b7b"
      },
      "execution_count": 19,
      "outputs": [
        {
          "output_type": "stream",
          "name": "stdout",
          "text": [
            "[1, 2, 3, 4, 5, 6]\n",
            "[1, 2, 3, 4, 5]\n"
          ]
        }
      ]
    },
    {
      "cell_type": "code",
      "source": [
        "# COUNT\n",
        "\n",
        "numbers = [1,2,7,6,5,5]\n",
        "\n",
        "target_number = 5\n",
        "count = numbers.count(target_number)\n",
        "print(f'The number {target_number} appears {count} times in the list')"
      ],
      "metadata": {
        "colab": {
          "base_uri": "https://localhost:8080/"
        },
        "id": "XupFFgnddmFD",
        "outputId": "8242cd4b-b9ff-4ebb-fab3-332ebfd241bd"
      },
      "execution_count": 21,
      "outputs": [
        {
          "output_type": "stream",
          "name": "stdout",
          "text": [
            "The number 5 appears 2 times in the list\n"
          ]
        }
      ]
    },
    {
      "cell_type": "code",
      "source": [
        "# INDEX\n",
        "\n",
        "fruits = ['apple', 'banana', 'orange']\n",
        "fruits_index = fruits.index('banana')\n",
        "print(f'Index of \"banana\" is: {fruits_index}')"
      ],
      "metadata": {
        "colab": {
          "base_uri": "https://localhost:8080/"
        },
        "id": "RZnO965lekSY",
        "outputId": "c0f3e749-8b48-4fdd-f7ac-3badabfdffdc"
      },
      "execution_count": 22,
      "outputs": [
        {
          "output_type": "stream",
          "name": "stdout",
          "text": [
            "Index of \"banana\" is: 1\n"
          ]
        }
      ]
    },
    {
      "cell_type": "code",
      "source": [
        "# INSERT\n",
        "\n",
        "numbers = [1,2,3,4,5]\n",
        "numbers.insert(2, 10)\n",
        "\n",
        "print(numbers)"
      ],
      "metadata": {
        "colab": {
          "base_uri": "https://localhost:8080/"
        },
        "id": "auJOdFQMgpWG",
        "outputId": "2eaca05c-0758-462f-8cb8-80515c8a499d"
      },
      "execution_count": 23,
      "outputs": [
        {
          "output_type": "stream",
          "name": "stdout",
          "text": [
            "[1, 2, 10, 3, 4, 5]\n"
          ]
        }
      ]
    },
    {
      "cell_type": "code",
      "source": [
        "# POP\n",
        "numbers.pop(2)\n",
        "print(numbers)"
      ],
      "metadata": {
        "colab": {
          "base_uri": "https://localhost:8080/"
        },
        "id": "DaUcB3exhKfY",
        "outputId": "9aa99b39-4372-46b9-d710-76661bdd36d1"
      },
      "execution_count": 24,
      "outputs": [
        {
          "output_type": "stream",
          "name": "stdout",
          "text": [
            "[1, 2, 3, 4, 5]\n"
          ]
        }
      ]
    },
    {
      "cell_type": "code",
      "source": [
        "# SORT\n",
        "numbers2 = [6,9,10,3,5]\n",
        "numbers2.sort()\n",
        "print(numbers2)"
      ],
      "metadata": {
        "colab": {
          "base_uri": "https://localhost:8080/"
        },
        "id": "DT10eRvVh2VB",
        "outputId": "38550c6f-6255-40c0-f22f-b5a4705b61a5"
      },
      "execution_count": 29,
      "outputs": [
        {
          "output_type": "stream",
          "name": "stdout",
          "text": [
            "[3, 5, 6, 9, 10]\n"
          ]
        }
      ]
    },
    {
      "cell_type": "code",
      "source": [
        "\n",
        "# if the average val is higher than 3\n",
        "\n"
      ],
      "metadata": {
        "id": "1CxPuxhqo0td"
      },
      "execution_count": null,
      "outputs": []
    },
    {
      "cell_type": "code",
      "source": [
        "# Create a list of 5 number elements\n",
        "numbers = [1, 6, 13, 2, 5]\n",
        "\n",
        "# # Calculate maximum value of the numbers\n",
        "max_value = max(numbers)\n",
        "print(f\"The maximum value in the list is: {max_value}\")\n",
        "\n",
        "# Calculate minimum value of the numbers\n",
        "min_value = min(numbers)\n",
        "print(f\"The minimum value in the list is: {min_value}\")\n",
        "\n",
        "# Calculate average value of numbers\n",
        "average_value = sum(numbers) / len(numbers)\n",
        "print(f\"The average value in the list is: {average_value}\")\n",
        "\n",
        "# Check if the average value of the list if higher than 3 If the average is greater than 3, print \"Average is greater than 3\", otherwise print \"Average is not greater than 3\".\n",
        "if average_value > 3:\n",
        "  print(\"The average value of numbers in the list is higher than 3\")\n",
        "else:\n",
        "  print(\"The average value of numbers on the list is lower than 3\")\n",
        "\n",
        "# Sort the list\n",
        "\n",
        "numbers.sort()\n",
        "\n",
        "# Remove first number of the list\n",
        "\n",
        "numbers.pop(0)\n",
        "\n",
        "# Add your name to the list\n",
        "numbers.append(\"Elina\")\n",
        "\n",
        "# Calculate at what index is your name\n",
        "numbers.index(\"Elina\")"
      ],
      "metadata": {
        "id": "VQyAPpkZkrW5"
      },
      "execution_count": null,
      "outputs": []
    },
    {
      "cell_type": "markdown",
      "source": [
        "### RANGE"
      ],
      "metadata": {
        "id": "8gV84CCVrg2M"
      }
    },
    {
      "cell_type": "markdown",
      "source": [
        "# range(start, stop, step)"
      ],
      "metadata": {
        "id": "4lwZ-tsDse6c"
      }
    },
    {
      "cell_type": "code",
      "source": [
        "list(range(10, 100, 10)) #the last element is not included"
      ],
      "metadata": {
        "colab": {
          "base_uri": "https://localhost:8080/"
        },
        "id": "gFsXizrIr6bu",
        "outputId": "373e0c1b-ec5d-4e18-db59-3807e7ce6b75"
      },
      "execution_count": 43,
      "outputs": [
        {
          "output_type": "execute_result",
          "data": {
            "text/plain": [
              "[10, 20, 30, 40, 50, 60, 70, 80, 90]"
            ]
          },
          "metadata": {},
          "execution_count": 43
        }
      ]
    },
    {
      "cell_type": "code",
      "source": [
        "numbers_with_range = range(1, 7) #iterable object [1,2,3,4,5,6]"
      ],
      "metadata": {
        "id": "s1gJ-IrLriUD"
      },
      "execution_count": 44,
      "outputs": []
    },
    {
      "cell_type": "code",
      "source": [
        "for number in numbers_with_range:\n",
        "  number = number*2\n",
        "  print(number)"
      ],
      "metadata": {
        "colab": {
          "base_uri": "https://localhost:8080/"
        },
        "id": "WNvNPZdPtTxA",
        "outputId": "e8861368-eac4-492a-a249-90482a4fc252"
      },
      "execution_count": 46,
      "outputs": [
        {
          "output_type": "stream",
          "name": "stdout",
          "text": [
            "2\n",
            "4\n",
            "6\n",
            "8\n",
            "10\n",
            "12\n"
          ]
        }
      ]
    },
    {
      "cell_type": "code",
      "source": [
        "friends = ['Anna', 'Peter', 'Erika', 'Roberta']\n",
        "for friend in friends:\n",
        "  print(friend)"
      ],
      "metadata": {
        "colab": {
          "base_uri": "https://localhost:8080/"
        },
        "id": "nQKFbU4UrmAh",
        "outputId": "6b25fe5a-401b-428b-9dba-4cbbc3ffe4a6"
      },
      "execution_count": 47,
      "outputs": [
        {
          "output_type": "stream",
          "name": "stdout",
          "text": [
            "Anna\n",
            "Peter\n",
            "Erika\n",
            "Roberta\n"
          ]
        }
      ]
    },
    {
      "cell_type": "code",
      "source": [],
      "metadata": {
        "id": "x8YJU6QPx5o-"
      },
      "execution_count": null,
      "outputs": []
    }
  ]
}